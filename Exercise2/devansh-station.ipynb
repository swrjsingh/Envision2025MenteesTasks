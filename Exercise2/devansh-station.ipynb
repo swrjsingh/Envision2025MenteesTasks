{
 "cells": [
  {
   "cell_type": "code",
   "execution_count": null,
   "id": "d96a8004-a77d-47fe-b597-be5f9c33ebd1",
   "metadata": {},
   "outputs": [
    {
     "name": "stdout",
     "output_type": "stream",
     "text": [
      "Daily Temperatures for 30 days: tensor([ 0, 30,  5, -4, 28, 10, 40, 25, 30, 20, 28, 23,  8, 34, 16, 34,  4, 24,\n",
      "         6, 15, -7, 11,  6, -2, 18,  7, 18,  6, 10, 21])\n",
      "\n",
      "Weather Data (10 Days × 5 Stations):\n",
      " tensor([[ 8, 34, -1,  6, 38],\n",
      "        [35, -4,  5, 21, -9],\n",
      "        [21,  7, 40, 39,  5],\n",
      "        [20,  3,  0, -5, 15],\n",
      "        [ 3, 12, 22, 32,  8],\n",
      "        [ 7, 23, 10, 19, 11],\n",
      "        [-4, 19,  3, 26,  6],\n",
      "        [18, 30, 27, 11, 36],\n",
      "        [37, 39, -7,  4, 38],\n",
      "        [23, 13,  2, 10,  4]])\n",
      "\n",
      "Temperature Statistics for Each Station (Over 10 Days):\n",
      "Station A: Mean=16.80°C, Max=37°C, Min=-4°C\n",
      "Station B: Mean=17.60°C, Max=39°C, Min=-4°C\n",
      "Station C: Mean=10.10°C, Max=40°C, Min=-7°C\n",
      "Station D: Mean=16.30°C, Max=39°C, Min=-5°C\n",
      "Station E: Mean=15.20°C, Max=38°C, Min=-9°C\n"
     ]
    }
   ],
   "source": [
    "import torch\n",
    "\n",
    "temp_data = torch.randint(-10, 41, (30,)) #a tensor with 30 random values between -10,40\n",
    "print(\"Daily Temperatures for 30 days:\", temp_data)\n",
    "\n",
    "stations = [\"Station A\", \"Station B\", \"Station C\", \"Station D\", \"Station E\"]\n",
    "\n",
    "weather_data = torch.randint(-10, 41, (10, 5)) # creating a 2D tensor for 10 rows and 5 columns\n",
    "print(\"\\nWeather Data (10 Days(rows) × 5 Stations(cols)):\\n\", weather_data)\n",
    "\n",
    "mean_temp = weather_data.float().mean(dim=0)\n",
    "max_temp = weather_data.max(dim=0).values\n",
    "min_temp = weather_data.min(dim=0).values\n",
    "\n",
    "print(\"\\nTemperature Statistics for Each Station (Over 10 Days):\")\n",
    "for i, station in enumerate(stations):\n",
    "    print(f\"{station}: Mean={mean_temp[i]:.2f}°C, Max={max_temp[i]}°C, Min={min_temp[i]}°C\")"
   ]
  }
 ],
 "metadata": {
  "kernelspec": {
   "display_name": "base",
   "language": "python",
   "name": "python3"
  },
  "language_info": {
   "codemirror_mode": {
    "name": "ipython",
    "version": 3
   },
   "file_extension": ".py",
   "mimetype": "text/x-python",
   "name": "python",
   "nbconvert_exporter": "python",
   "pygments_lexer": "ipython3",
   "version": "3.12.7"
  }
 },
 "nbformat": 4,
 "nbformat_minor": 5
}
