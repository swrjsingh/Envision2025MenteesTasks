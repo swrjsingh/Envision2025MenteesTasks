{
 "cells": [
  {
   "cell_type": "code",
   "execution_count": null,
   "metadata": {},
   "outputs": [],
   "source": []
  },
  {
   "cell_type": "code",
   "execution_count": 27,
   "metadata": {},
   "outputs": [
    {
     "name": "stdout",
     "output_type": "stream",
     "text": [
      "Data in Celcius: \n",
      " tensor([ -4,  34,  -9,  24,   9,   3,   1,   4,  21,  34,  28,  27,  28,   3,\n",
      "         -8,  16,   0,   8,  12,   7, -10,  36, -10,  17,  -4,  19,  -5,   7,\n",
      "         -9,  -8])\n",
      "Data in Fahrenheit: \n",
      " tensor([24.8000, 93.2000, 15.8000, 75.2000, 48.2000, 37.4000, 33.8000, 39.2000,\n",
      "        69.8000, 93.2000, 82.4000, 80.6000, 82.4000, 37.4000, 17.6000, 60.8000,\n",
      "        32.0000, 46.4000, 53.6000, 44.6000, 14.0000, 96.8000, 14.0000, 62.6000,\n",
      "        24.8000, 66.2000, 23.0000, 44.6000, 15.8000, 17.6000])\n",
      "Temperature Range:  46\n",
      "Mean Temperature:  9.033333778381348\n",
      "Highest Variability Station: Station C\n",
      "Hottest Day: Day 1\n"
     ]
    }
   ],
   "source": [
    "import torch \n",
    "temp_data_C=torch.randint(-10,41,(30,))\n",
    "temp_data_F=9*temp_data_C/5 +32\n",
    "print(\"Data in Celcius: \\n\",temp_data_C)\n",
    "print(\"Data in Fahrenheit: \\n\",temp_data_F)\n",
    "temp_max= temp_data_C.max()\n",
    "temp_min=temp_data_C.min()\n",
    "temp_range=temp_max-temp_min\n",
    "print(\"Temperature Range: \",temp_range.item())\n",
    "temp_avg=temp_data_C.float().mean()\n",
    "print(\"Mean Temperature: \",temp_avg.item())\n",
    "temp_var=temp_data_C.float().std(dim=0)\n",
    "var_station=torch.argmax(temp_var).item()\n",
    "hot=torch.argmax(temp_data_C.max(dim=0).values).item()\n",
    "print(f\"Highest Variability Station: Station {chr(var_station+65)}\")\n",
    "print(f\"Hottest Day: Day {hot + 1}\")\n",
    "\n"
   ]
  },
  {
   "cell_type": "code",
   "execution_count": 24,
   "metadata": {},
   "outputs": [
    {
     "name": "stdout",
     "output_type": "stream",
     "text": [
      "Daily Temperatures for 30 days in C:\n",
      " tensor([ -2,  18,  40,  32,  31,  35,  35,  14,  22,  -8,  12,  13,  24,  19,\n",
      "          3,  32,   1,  17,  26,  35, -10,  -4,  25,  30,  14,  19,  21,  37,\n",
      "         12,  -4])\n",
      "Weather (10 rows * 5 columns):\n",
      " tensor([[38, 11, -7, 33, -9],\n",
      "        [ 0, 17, 30, 32, 12],\n",
      "        [36,  1, 38, 38, -4],\n",
      "        [ 3,  9,  8, -3,  0],\n",
      "        [25, 31,  4, 33,  9],\n",
      "        [ 0,  8, 20, -3, -9],\n",
      "        [14, 27, 11, 28, 22],\n",
      "        [11, 22, 14, 39, 39],\n",
      "        [ 4, 37, 29, 16,  6],\n",
      "        [12, 28, 14, 31,  2]])\n",
      "\n",
      "Stationwise Analysis: \n",
      "Station A: Mean=14.30°C, Max=38°C, Min=0°C\n",
      "Station B: Mean=19.10°C, Max=37°C, Min=1°C\n",
      "Station C: Mean=16.10°C, Max=38°C, Min=-7°C\n",
      "Station D: Mean=24.40°C, Max=39°C, Min=-3°C\n",
      "Station E: Mean=6.80°C, Max=39°C, Min=-9°C\n"
     ]
    }
   ],
   "source": [
    "import torch\n",
    "temp_data = torch.randint(-10,41,(30,))\n",
    "print(\"Daily Temperatures for 30 days in C:\\n\",temp_data)\n",
    "temp_station = [\"Station A\",\"Station B\",\"Station C\",\"Station D\",\"Station E\"]\n",
    "weather = torch.randint(-10,41,(10,5))\n",
    "print(\"Weather (10 rows * 5 columns):\\n\", weather)\n",
    "temp_mean = weather.float().mean(dim=0)\n",
    "temp_max=weather.max(dim=0).values\n",
    "temp_min= weather.min(dim=0).values\n",
    "print(\"\\nStationwise Analysis: \")\n",
    "for i, station in enumerate(temp_station):\n",
    "    print(f\"{station}: Mean={temp_mean[i]:.2f}°C, Max={temp_max[i]}°C, Min={temp_min[i]}°C\")\n"
   ]
  }
 ],
 "metadata": {
  "kernelspec": {
   "display_name": "Python 3.13 (venv)",
   "language": "python",
   "name": "venv"
  },
  "language_info": {
   "codemirror_mode": {
    "name": "ipython",
    "version": 3
   },
   "file_extension": ".py",
   "mimetype": "text/x-python",
   "name": "python",
   "nbconvert_exporter": "python",
   "pygments_lexer": "ipython3",
   "version": "3.13.2"
  }
 },
 "nbformat": 4,
 "nbformat_minor": 2
}
