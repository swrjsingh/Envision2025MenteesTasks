import torch
# TASK1

#Temperature for 30 days
dailyTemperature=torch.rand(30)*50-10
print("Monthly temperatures:",dailyTemperature)
#Create stations
stations=['Station A','Station B','Station C','Station D','Station E']
#Generate 10 days data for 5 stations(10x5 tensor)
stationTemperature=torch.rand(10,5)*50-10
print("\nTemperatures for 10 days at the 5 stations are:",stationTemperature)
# Calculate mean,max and min tewmperatures
meanTemperature=stationTemperature.mean(dim=0)
maxTemperature=stationTemperature.max(dim=0).values
minTemperature=stationTemperature.min(dim=0).values
print("\nMean,Max and Min Temperatures are:")
for i,station in enumerate(stations):
    print(f"\n{station}:Mean={meanTemperature[i]:.1f} C, Max={maxTemperature[i]:.1f} C, Min={minTemperature[i]:.1f} C")

#TASK2

#Convert to Fahrenheit
fahrenheitTemperature=stationTemperature*9/5+32
print("\nFahrenheit temperature:",fahrenheitTemperature)
#Calculate daily range and Monthly average temperature
dailyRange=stationTemperature.max(dim=1).values-stationTemperature.min(dim=1).values
MonthlyAverageTemperature=dailyTemperature.mean()
print("\nDaily Ranges:",dailyRange)
print("\nMonthly Average:",MonthlyAverageTemperature)
#Calculate standard deviation and Highest variability
StandardDeviation=stationTemperature.std(dim=0)
HighestVariability=stations[StandardDeviation.argmax()]
print("\nStandard Deviations per Station:",StandardDeviation)
print("\nHighest Variability:",HighestVariability)
#Find hottest day
Hottestday=stationTemperature.max().item()
print("\nHottest temperature across all stations:",Hottestday)

#TASK3

#Heat warnings system
heat_warnings=stationTemperature>30
print("/nHeat Warnings:",heat_warnings)
#Warning days and stations identify
warning_days,warning_stations=torch.where(heat_warnings)
print("\n Heat warning occurences:")
for day,station in zip(warning_days,warning_stations):
    print(f"Day {day+1} at {stations[station]}: {stationTemperature[day, station]:.1f} C")
#Rainfall data
rainfall=torch.randint(0,50,(30,5))
print("\nRaw rainfall data(mm):",rainfall)
#Calibration
calibration=torch.tensor([1.1,0.9,1.0,1.05,0.95])
adjusted_rainfall=rainfall*calibration
print("\nAdjusted rainfall:",adjusted_rainfall)

#TASK4

import matplotlib.pyplot as plt
#Create comprehensive weather dashboard using tensors
temperature=torch.rand(30,5)*50-10
humidity=torch.rand(30, 5) * 100
elevation=torch.tensor([10, 50, 200, 350, 500])
rainfalls=torch.rand(30, 5) * 20  
#Weather quality index
WQI = 0.5 * temperature + 0.3 * humidity - 0.2 * rainfalls
print("Weather Quality Index:\n", WQI)
#Elevation vs Temperature analysis
avg_temp_by_elevation=temperature.mean(dim=0)
plt.scatter(elevation.numpy(),avg_temp_by_elevation.numpy())
plt.title("Elevation vs Average Temperature")
plt.xlabel("Elevation(m)")
plt.ylabel("Temperature(C)")
plt.show()
#Regional statistics
group1=WQI[:,:2].mean()
group2=WQI[:,2:].mean()
print("\nGroup 1 WQI:", group1.item())
print("\nGroup 2 WQI:", group2.item())
#Ideal weather locations
best_station=stations[WQI.mean(dim=0).argmax()]
print("\n Best Weather at:",best_station)
# Demonstrate tensor operations
print("\n1.Reshape:",temperature.reshape(15,10).shape)
print("\n2.Transpose:",temperature.T.shape)
print("\n3.Concatenate:",torch.cat([temperature,humidity],dim=1).shape)
print("\n4.Masking:",temperature[temperature>30].shape)
print("\n5.Element-wise multiply:",(temperature*humidity).shape)
